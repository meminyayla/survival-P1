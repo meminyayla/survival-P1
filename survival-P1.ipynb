{
 "cells": [
  {
   "cell_type": "markdown",
   "metadata": {},
   "source": [
    "# Survival Analysis\n",
    "## Cox Model implementation\n",
    "\n"
   ]
  },
  {
   "cell_type": "markdown",
   "metadata": {},
   "source": [
    "## <div id=\"summary\">Table of contents</div>\n",
    "\n",
    "**<font size=\"2\"><a href=\"#chap1\">1. Data description</a></font>**\n",
    "**<br><font size=\"2\"><a href=\"#chap2\">2. The Kaplan Meier Estimator</a></font>**\n",
    "**<br><font size=\"2\"><a href=\"#chap3\">3. Cox Proportional Hazards model</a></font>**\n",
    "**<br><font size=\"2\"><a href=\"#chap4\">4. Example of survival curve</a></font>**"
   ]
  },
  {
   "cell_type": "code",
   "execution_count": 7,
   "metadata": {
    "_kg_hide-input": true,
    "_kg_hide-output": true
   },
   "outputs": [],
   "source": [
    "# Import dependancies\n",
    "import numpy as np\n",
    "import pandas as pd\n",
    "import pandas_profiling\n",
    "import matplotlib.pyplot as plt\n",
    "from lifelines import CoxPHFitter\n",
    "from lifelines import KaplanMeierFitter\n",
    "\n",
    "%matplotlib inline"
   ]
  },
  {
   "cell_type": "markdown",
   "metadata": {},
   "source": [
    "# <div id=\"chap1\">Data description</div>\n",
    "\n",
    "* Age: Age of patient at time of operation \n",
    "* Operation_year: Patient's year of operation (year - 19XX)\n",
    "* Nb_pos_detected: Number of positive axillary nodes detected\n",
    "* Surv: Survival status (class attribute) 1 = the patient survived 5 years or longer 2 = the patient died within 5 year"
   ]
  },
  {
   "cell_type": "code",
   "execution_count": 8,
   "metadata": {},
   "outputs": [
    {
     "data": {
      "text/html": [
       "<div>\n",
       "<style scoped>\n",
       "    .dataframe tbody tr th:only-of-type {\n",
       "        vertical-align: middle;\n",
       "    }\n",
       "\n",
       "    .dataframe tbody tr th {\n",
       "        vertical-align: top;\n",
       "    }\n",
       "\n",
       "    .dataframe thead th {\n",
       "        text-align: right;\n",
       "    }\n",
       "</style>\n",
       "<table border=\"1\" class=\"dataframe\">\n",
       "  <thead>\n",
       "    <tr style=\"text-align: right;\">\n",
       "      <th></th>\n",
       "      <th>Age</th>\n",
       "      <th>Operation_year</th>\n",
       "      <th>Nb_pos_detected</th>\n",
       "      <th>Surv</th>\n",
       "    </tr>\n",
       "  </thead>\n",
       "  <tbody>\n",
       "    <tr>\n",
       "      <th>0</th>\n",
       "      <td>30</td>\n",
       "      <td>64</td>\n",
       "      <td>1</td>\n",
       "      <td>1</td>\n",
       "    </tr>\n",
       "    <tr>\n",
       "      <th>1</th>\n",
       "      <td>30</td>\n",
       "      <td>62</td>\n",
       "      <td>3</td>\n",
       "      <td>1</td>\n",
       "    </tr>\n",
       "    <tr>\n",
       "      <th>2</th>\n",
       "      <td>30</td>\n",
       "      <td>65</td>\n",
       "      <td>0</td>\n",
       "      <td>1</td>\n",
       "    </tr>\n",
       "    <tr>\n",
       "      <th>3</th>\n",
       "      <td>31</td>\n",
       "      <td>59</td>\n",
       "      <td>2</td>\n",
       "      <td>1</td>\n",
       "    </tr>\n",
       "    <tr>\n",
       "      <th>4</th>\n",
       "      <td>31</td>\n",
       "      <td>65</td>\n",
       "      <td>4</td>\n",
       "      <td>1</td>\n",
       "    </tr>\n",
       "  </tbody>\n",
       "</table>\n",
       "</div>"
      ],
      "text/plain": [
       "   Age  Operation_year  Nb_pos_detected  Surv\n",
       "0   30              64                1     1\n",
       "1   30              62                3     1\n",
       "2   30              65                0     1\n",
       "3   31              59                2     1\n",
       "4   31              65                4     1"
      ]
     },
     "execution_count": 8,
     "metadata": {},
     "output_type": "execute_result"
    }
   ],
   "source": [
    "data = pd.read_csv('haberman.csv', names = ['Age','Operation_year','Nb_pos_detected','Surv'])\n",
    "data.head(5)"
   ]
  },
  {
   "cell_type": "markdown",
   "metadata": {},
   "source": [
    "### <font color ='#D2911C'>Panda Profiling</font>\n",
    "\n",
    "<div align='justify'><font size=3>Pandas profiling is an open source Python module with which we can quickly do an exploratory data analysis with just a few lines of code. Besides, if this is not enough to convince you to use this tool, it also generates interactive reports in web format that can be presented to any person, even if they don’t know programming.</font></div>"
   ]
  },
  {
   "cell_type": "markdown",
   "metadata": {},
   "source": [
    "### <font color ='#D2911C'>Survival Analysis</font>"
   ]
  },
  {
   "cell_type": "markdown",
   "metadata": {},
   "source": [
    "The survival analysis is based on the probability that the event of interest has not occurred at time t. A Survival function depending on time $S(t)$ is generally used to represent that probability.\n",
    "\n",
    "$$S(t) = P(T>t)$$\n",
    "\n",
    "In other words, $S(t)$ corresponds to the probability of survival after time $t$. Here, $T$ corresponds to the random lifetime taken from the population. Note that $S(t)$ is between zero and one (inclusive), and $S(t)$ is a decreasing function of $t$."
   ]
  },
  {
   "cell_type": "markdown",
   "metadata": {},
   "source": [
    "### <font color ='#D2911C'>The Hazard Function</font>"
   ]
  },
  {
   "cell_type": "markdown",
   "metadata": {},
   "source": [
    "The Hazard Function, is defined as the probability that the subject will experience an event of interest within a small time interval, provided that the individual has survived until the beginning of that interval. It is the instantaneous rate calculated over a time period and this rate is considered constant. It can also be considered as the risk of experiencing the event of interest at time t. It is the number of subjects experiencing an event in the interval beginning at time t divided by the product of the number of subjects surviving at time t and interval width. Since the probability of a continuous random variable to equal a particular value is zero. That’s why we consider the probability of the event happening at a particular interval of time from T till $(T + \\Delta T)$. Since our goal is to find the risk of an event and we don’t want the risk to get bigger as the time interval $\\Delta T$ gets bigger. Thus, in order to adjust for that, we divide the equation by $\\Delta T$. This scales the equation by $\\Delta T$. The equation of the Hazard Rate is given as:\n",
    "\n",
    "$$h(t) = \\lim_{\\delta t \\to 0} \\frac{Pr(t \\leq T  \\leq t + \\delta t | T > t)}{\\delta t}$$\n",
    "\n",
    "The limit $\\Delta T$ approaches zero implies that our goal is to measure the risk of an event happening at a particular point in time. So, taking the limit $\\Delta T$ approaches zero yields an infinitesimally small period of time. One thing to point out here is that the Hazard is not a probability. This is because, even though we have the probability in the numerator, but the $\\Delta T$ in the denominator could result in a value which is greater than one."
   ]
  },
  {
   "cell_type": "markdown",
   "metadata": {},
   "source": [
    "### <font color ='#D2911C'>Censored Data</font>"
   ]
  },
  {
   "cell_type": "markdown",
   "metadata": {},
   "source": [
    "<div align='justify'><font size=3>Observations are called censored when the information about their survival time is imcomplete. This happens when the subject is no longer observed before he/she experience the event of interest. This can be due either to the end of the observation period or to the occurrence of an other event preventing the observation of the event of interest. In an insurance context, lapsing leads to censored information when the event of interest is whatever mortality/morbidity risk. It is called right censored data. There are also left censored, interval censoring and left truncation but we will only work with right censored data. For example, someone who drops out of the study before the end of the study observation time and did not experience the event is said to be right censored.</font></div>"
   ]
  },
  {
   "cell_type": "markdown",
   "metadata": {},
   "source": [
    "<div align=\"center\"><img src=\"data:image/png;base64,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\" width=\"30%\"></div>\n",
    "<br>\n",
    "<div align='center'><font size=3>On this illustration, Unit 1 and Unit 4 have not experienced the event before the end of the study.</font></div>"
   ]
  },
  {
   "cell_type": "markdown",
   "metadata": {},
   "source": [
    "# <div id=\"chap2\">The Kaplan Meier Estimator</div>"
   ]
  },
  {
   "cell_type": "markdown",
   "metadata": {},
   "source": [
    "The Kaplan-Meier estimator is used to estimate the survival function. It measures the fraction of subjects who survived for a certain amount of survival time $t$. Before using KM estimate in survival analysis, three assumptions must be made:\n",
    "\n",
    "1. Subjects that are censored have the same survival prospects as those who continue to be followed.\n",
    "2. Survival probability is the same for all the subjects, irrespective of when they are recruited in the study.\n",
    "3. The event of interest happens at the specified time. This is because the event can happen between two examinations. The estimated survival time can be more accurately measured if the examination happens frequently i.e if the time gap between examinations is very small."
   ]
  },
  {
   "cell_type": "markdown",
   "metadata": {},
   "source": [
    "The visual representation of this function is usually called the Kaplan-Meier curve. It shows the probability of an event at a certain time interval (For instance, survival). If the sample size is large enough, the curve should approach the true survival function for the population studied. The survival probability at any particular time is calculated as the number of subjects surviving divided by the number of people at risk. The censored subjects are not counted in the denominator. The equation is given as follows:\n",
    "\n",
    "\n",
    "$$S(t) = \\prod_{t_i,t} \\frac{n_i - d_i}{n_i}$$\n",
    "\n",
    "$n_i$ represents the number of subjects at risk prior to time $t$. $d_i$ represents the number of the event of interest at time $t$."
   ]
  },
  {
   "cell_type": "code",
   "execution_count": 15,
   "metadata": {},
   "outputs": [
    {
     "data": {
      "text/plain": [
       "<AxesSubplot:xlabel='timeline'>"
      ]
     },
     "execution_count": 15,
     "metadata": {},
     "output_type": "execute_result"
    },
    {
     "data": {
      "image/png": "[encoded data removed]",
      "text/plain": [
       "<Figure size 1080x504 with 1 Axes>"
      ]
     },
     "metadata": {
      "needs_background": "light"
     },
     "output_type": "display_data"
    }
   ],
   "source": [
    "T = data.Age\n",
    "E = data.Surv\n",
    "\n",
    "## create a kmf object\n",
    "km = KaplanMeierFitter() \n",
    "\n",
    "## Fit the data into the model\n",
    "km.fit(T, E,label='Kaplan Meier Estimate')\n",
    "\n",
    "## Create an estimate\n",
    "km.plot(ci_show=False, figsize=(15,7)) ## ci_show is meant for Confidence interval, since our data set is too tiny, not showing it."
   ]
  },
  {
   "cell_type": "markdown",
   "metadata": {},
   "source": [
    "<div align='justify'><font size=3>the y-axis represents the probability the subject still hasn’t experienced the event of interest after time $t$, where time $t$ is on the x-axis. In order to see how uncertain we are about the point estimates, we use the confidence intervals. The median time is the time where on average, half of the population has experienced the event of interest.</font></div>"
   ]
  },
  {
   "cell_type": "code",
   "execution_count": 16,
   "metadata": {},
   "outputs": [
    {
     "data": {
      "text/plain": [
       "<AxesSubplot:xlabel='timeline'>"
      ]
     },
     "execution_count": 16,
     "metadata": {},
     "output_type": "execute_result"
    },
    {
     "data": {
      "image/png": "[encoded data removed]",
      "text/plain": [
       "<Figure size 1080x504 with 1 Axes>"
      ]
     },
     "metadata": {
      "needs_background": "light"
     },
     "output_type": "display_data"
    }
   ],
   "source": [
    "## Instantiate the class to create an object\n",
    "km_2 = KaplanMeierFitter()\n",
    "\n",
    "## creating 2 cohorts : with at least one positive axillary detected, and one with no one detected\n",
    "groups = data['Nb_pos_detected']   \n",
    "i1 = (groups >= 1)   \n",
    "i2 = (groups < 1)     \n",
    "\n",
    "\n",
    "## fit the model for 1st cohort\n",
    "km_2.fit(T[i1], E[i1], label='at least one positive axillary detected')\n",
    "a1 = km_2.plot()\n",
    "\n",
    "## fit the model for 2nd cohort\n",
    "km_2.fit(T[i2], E[i2], label='no positive axillary nodes detected')\n",
    "km_2.plot(ax=a1, figsize=(15,7))"
   ]
  },
  {
   "cell_type": "markdown",
   "metadata": {},
   "source": [
    "<div align='justify'><font size=3>There are two survival curves, one for each cohort. From the curves, it is evident that patients, who have undergone at least 1 surgery, are more likely to die sooner. Before 45 years old, the two curves are almost overlapped. At any point t>45 across the timeline, we can see that the survival probability of the cohort in blue is less than the cohort in red.</font></div>"
   ]
  },
  {
   "cell_type": "markdown",
   "metadata": {},
   "source": [
    "# <div id=\"chap3\">Cox Proportional Hazards model</div>"
   ]
  },
  {
   "cell_type": "markdown",
   "metadata": {},
   "source": [
    "### Survival regression"
   ]
  },
  {
   "cell_type": "markdown",
   "metadata": {},
   "source": [
    "Survival Regression does not only involves using the duration and the censorship variables but also using the additional features as covariates. We ‘regress’ these covariates with the duration variable. The dataset used for Survival Regression needs to be in the form of a DataFrame with a column denoting the duration the subjects, a column indicating whether or not the event of interest was observed, as well as additional covariates you need to regress with. Like with other regression techniques, you need to prepare the data before feeding it to the model."
   ]
  },
  {
   "cell_type": "markdown",
   "metadata": {},
   "source": [
    "### Cox Model"
   ]
  },
  {
   "cell_type": "markdown",
   "metadata": {},
   "source": [
    "The Cox Proportional Hazards Model was introduced by Cox and it takes into account the effect of several variables at a time and examines the relationship of the survival distribution to these variables. It is similar to Multiple Regression Analysis, but the difference is that the depended variable is the Hazard Function at a given time t. It is based on very small intervals of time, which contains at most one event of interest. It is a semi-parametric approach for the estimation of weights in a Proportional Hazard Model. The parameter estimates are obtained by maximizing the partial likelihood of the weights. Gradient Descent is used to fit the Cox Model to the data. The explanation of Gradient Descent finds the weights such that the error is minimized. The formula for the Cox Proportional Hazards Regression Model is given as follows. The model works such that the log-hazard of an individual subject is a linear function of their static covariates and a population-level baseline hazard function that changes over time. These covariates can be estimated by partial likelihood.\n",
    "\n",
    "\n",
    "$$h(t|x) = b_0(t)\\exp{\\sum_{i=1}^{n} b_i(x_i)}$$\n",
    "\n",
    "- $t$ represents the survival time, the hazard may vary over time.\n",
    "- $h(t)$ is the hazard function determined by a set of $n$ covariates $(x_1, x_2,..., x_n)$.\n",
    "- $b_0(t)$ is the baseline hazard function and it is defined as the probability of experiencing the event of interest when all other covariates equal zero. the value of the hazard if all the $x_i$ are equal to zero (the quantity $exp(0)$ equals $1$). It is the only time-dependent component in the model. The model makes no assumption about the baseline hazard function and assumes a parametric form for the effect of the covariates on the hazard.\n",
    "- $\\exp{\\sum_{i=1}^{n} b_i(x_i)}$ is the partial hazard is a time-invariant scalar factor that only increases or decreases the baseline hazard. It is similar to the intercept in ordinary regression. The covariates or the regression coefficients x give the proportional change that can be expected in the hazard.\n",
    "- the coefficients $(b_1, b_2,..., b_n)$ measure the impact (i.e., the effect size) of covariates.\n",
    "\n",
    "\n",
    "The sign of the regression coefficients, $b_i$, plays a role in the hazard of a subject. A change in these regression coefficients or covariates will either increase or decrease the baseline hazard. A positive sign for $b_i$ means that the risk of an event is higher, and thus the probability for the event of interest for that particular subject is higher. Similarly, a negative sign means that the risk of the event is lower. Also, note that the magnitude, i.e the value itself plays a role as well. For example, for the value of a variable equaling to one would mean that it’ll have no effect on the Hazard. For a value less than one, it’ll reduce the Hazard and for a value greater than one, it’ll increase the Hazard. These regression coefficients, $b$, are estimated by maximizing the partial likelihood.\n",
    "\n",
    "Cox Proportional Hazards Model is a semi-parametric model in the sense that the baseline hazard function does not have to be specified i.e it can vary, allowing a different parameter to be used for each unique survival time. But, it assumes that the rate ratio remains proportional throughout the studied period. This results in increased flexibility of the model. A fully-parametric proportional hazards model also assumes that the baseline hazard function can be parameterized according to a particular model for the distribution of the survival times. Cox Model can handle right-censored data but cannot handle left-censored or interval-censored data directly.\n",
    "\n",
    "There are three assumptions made by the Cox Model:\n",
    "1. The Hazard Ratio of two subjects remains the same at all times.\n",
    "2. The Explanatory Variables act multiplicatively on the Hazard Function.\n",
    "3. Failure times of individual subjects are independent of each other."
   ]
  },
  {
   "cell_type": "code",
   "execution_count": 11,
   "metadata": {},
   "outputs": [
    {
     "name": "stderr",
     "output_type": "stream",
     "text": [
      "C:\\Users\\memin\\AppData\\Local\\Programs\\Python\\Python310\\lib\\site-packages\\lifelines\\utils\\printer.py:62: FutureWarning: In future versions `DataFrame.to_latex` is expected to utilise the base implementation of `Styler.to_latex` for formatting and rendering. The arguments signature may therefore change. It is recommended instead to use `DataFrame.style.to_latex` which also contains additional functionality.\n",
      "  return summary_df[columns].to_latex(float_format=\"%.\" + str(self.decimals) + \"f\")\n"
     ]
    },
    {
     "data": {
      "text/html": [
       "<div>\n",
       "<style scoped>\n",
       "    .dataframe tbody tr th:only-of-type {\n",
       "        vertical-align: middle;\n",
       "    }\n",
       "\n",
       "    .dataframe tbody tr th {\n",
       "        vertical-align: top;\n",
       "    }\n",
       "\n",
       "    .dataframe thead th {\n",
       "        text-align: right;\n",
       "    }\n",
       "</style>\n",
       "<table border=\"1\" class=\"dataframe\">\n",
       "  <tbody>\n",
       "    <tr>\n",
       "      <th>model</th>\n",
       "      <td>lifelines.CoxPHFitter</td>\n",
       "    </tr>\n",
       "    <tr>\n",
       "      <th>duration col</th>\n",
       "      <td>'Age'</td>\n",
       "    </tr>\n",
       "    <tr>\n",
       "      <th>event col</th>\n",
       "      <td>'Surv'</td>\n",
       "    </tr>\n",
       "    <tr>\n",
       "      <th>baseline estimation</th>\n",
       "      <td>breslow</td>\n",
       "    </tr>\n",
       "    <tr>\n",
       "      <th>number of observations</th>\n",
       "      <td>306</td>\n",
       "    </tr>\n",
       "    <tr>\n",
       "      <th>number of events observed</th>\n",
       "      <td>306</td>\n",
       "    </tr>\n",
       "    <tr>\n",
       "      <th>partial log-likelihood</th>\n",
       "      <td>-1446.95</td>\n",
       "    </tr>\n",
       "    <tr>\n",
       "      <th>time fit was run</th>\n",
       "      <td>2022-03-29 10:18:45 UTC</td>\n",
       "    </tr>\n",
       "  </tbody>\n",
       "</table>\n",
       "</div><table border=\"1\" class=\"dataframe\">\n",
       "  <thead>\n",
       "    <tr style=\"text-align: right;\">\n",
       "      <th style=\"min-width: 12px;\"></th>\n",
       "      <th style=\"min-width: 12px;\">coef</th>\n",
       "      <th style=\"min-width: 12px;\">exp(coef)</th>\n",
       "      <th style=\"min-width: 12px;\">se(coef)</th>\n",
       "      <th style=\"min-width: 12px;\">coef lower 95%</th>\n",
       "      <th style=\"min-width: 12px;\">coef upper 95%</th>\n",
       "      <th style=\"min-width: 12px;\">exp(coef) lower 95%</th>\n",
       "      <th style=\"min-width: 12px;\">exp(coef) upper 95%</th>\n",
       "      <th style=\"min-width: 12px;\">cmp to</th>\n",
       "      <th style=\"min-width: 12px;\">z</th>\n",
       "      <th style=\"min-width: 12px;\">p</th>\n",
       "      <th style=\"min-width: 12px;\">-log2(p)</th>\n",
       "    </tr>\n",
       "  </thead>\n",
       "  <tbody>\n",
       "    <tr>\n",
       "      <th>Operation_year</th>\n",
       "      <td>-0.02</td>\n",
       "      <td>0.98</td>\n",
       "      <td>0.02</td>\n",
       "      <td>-0.06</td>\n",
       "      <td>0.01</td>\n",
       "      <td>0.94</td>\n",
       "      <td>1.01</td>\n",
       "      <td>0.00</td>\n",
       "      <td>-1.39</td>\n",
       "      <td>0.16</td>\n",
       "      <td>2.61</td>\n",
       "    </tr>\n",
       "    <tr>\n",
       "      <th>Nb_pos_detected</th>\n",
       "      <td>0.01</td>\n",
       "      <td>1.01</td>\n",
       "      <td>0.01</td>\n",
       "      <td>-0.00</td>\n",
       "      <td>0.03</td>\n",
       "      <td>1.00</td>\n",
       "      <td>1.03</td>\n",
       "      <td>0.00</td>\n",
       "      <td>1.70</td>\n",
       "      <td>0.09</td>\n",
       "      <td>3.47</td>\n",
       "    </tr>\n",
       "  </tbody>\n",
       "</table><br><div>\n",
       "<style scoped>\n",
       "    .dataframe tbody tr th:only-of-type {\n",
       "        vertical-align: middle;\n",
       "    }\n",
       "\n",
       "    .dataframe tbody tr th {\n",
       "        vertical-align: top;\n",
       "    }\n",
       "\n",
       "    .dataframe thead th {\n",
       "        text-align: right;\n",
       "    }\n",
       "</style>\n",
       "<table border=\"1\" class=\"dataframe\">\n",
       "  <tbody>\n",
       "    <tr>\n",
       "      <th>Concordance</th>\n",
       "      <td>0.53</td>\n",
       "    </tr>\n",
       "    <tr>\n",
       "      <th>Partial AIC</th>\n",
       "      <td>2897.90</td>\n",
       "    </tr>\n",
       "    <tr>\n",
       "      <th>log-likelihood ratio test</th>\n",
       "      <td>4.50 on 2 df</td>\n",
       "    </tr>\n",
       "    <tr>\n",
       "      <th>-log2(p) of ll-ratio test</th>\n",
       "      <td>3.25</td>\n",
       "    </tr>\n",
       "  </tbody>\n",
       "</table>\n",
       "</div>"
      ],
      "text/latex": [
       "\\begin{tabular}{lrrrrrrrrrrr}\n",
       "\\toprule\n",
       "{} &  coef &  exp(coef) &  se(coef) &  coef lower 95\\% &  coef upper 95\\% &  exp(coef) lower 95\\% &  exp(coef) upper 95\\% &  cmp to &     z &    p &  -log2(p) \\\\\n",
       "covariate       &       &            &           &                 &                 &                      &                      &         &       &      &           \\\\\n",
       "\\midrule\n",
       "Operation\\_year  & -0.02 &       0.98 &      0.02 &           -0.06 &            0.01 &                 0.94 &                 1.01 &    0.00 & -1.39 & 0.16 &      2.61 \\\\\n",
       "Nb\\_pos\\_detected &  0.01 &       1.01 &      0.01 &           -0.00 &            0.03 &                 1.00 &                 1.03 &    0.00 &  1.70 & 0.09 &      3.47 \\\\\n",
       "\\bottomrule\n",
       "\\end{tabular}\n"
      ],
      "text/plain": [
       "<lifelines.CoxPHFitter: fitted with 306 total observations, 0 right-censored observations>\n",
       "             duration col = 'Age'\n",
       "                event col = 'Surv'\n",
       "      baseline estimation = breslow\n",
       "   number of observations = 306\n",
       "number of events observed = 306\n",
       "   partial log-likelihood = -1446.95\n",
       "         time fit was run = 2022-03-29 10:18:45 UTC\n",
       "\n",
       "---\n",
       "                  coef  exp(coef)   se(coef)   coef lower 95%   coef upper 95%  exp(coef) lower 95%  exp(coef) upper 95%\n",
       "covariate                                                                                                               \n",
       "Operation_year   -0.02       0.98       0.02            -0.06             0.01                 0.94                 1.01\n",
       "Nb_pos_detected   0.01       1.01       0.01            -0.00             0.03                 1.00                 1.03\n",
       "\n",
       "                  cmp to     z    p   -log2(p)\n",
       "covariate                                     \n",
       "Operation_year      0.00 -1.39 0.16       2.61\n",
       "Nb_pos_detected     0.00  1.70 0.09       3.47\n",
       "---\n",
       "Concordance = 0.53\n",
       "Partial AIC = 2897.90\n",
       "log-likelihood ratio test = 4.50 on 2 df\n",
       "-log2(p) of ll-ratio test = 3.25"
      ]
     },
     "metadata": {},
     "output_type": "display_data"
    }
   ],
   "source": [
    "# Create Model\n",
    "cph = CoxPHFitter()\n",
    "\n",
    "# Fit the data to train the model\n",
    "cph.fit(data, 'Age', event_col='Surv')\n",
    "\n",
    "# Have a look at the significance of the features\n",
    "cph.print_summary()"
   ]
  },
  {
   "cell_type": "code",
   "execution_count": 18,
   "metadata": {},
   "outputs": [
    {
     "data": {
      "text/plain": [
       "<AxesSubplot:xlabel='log(HR) (95% CI)'>"
      ]
     },
     "execution_count": 18,
     "metadata": {},
     "output_type": "execute_result"
    },
    {
     "data": {
      "image/png": "[encoded data removed]",
      "text/plain": [
       "<Figure size 432x288 with 1 Axes>"
      ]
     },
     "metadata": {
      "needs_background": "light"
     },
     "output_type": "display_data"
    }
   ],
   "source": [
    "cph.plot()"
   ]
  },
  {
   "cell_type": "markdown",
   "metadata": {},
   "source": [
    "<div align='justify'><font size=3>The summary statistics above indicates the significance of the covariates in predicting the Survival risk. both features play a tiny significant role in predicting the survival. The large CI indicates that more data are needed.</font></div>"
   ]
  },
  {
   "cell_type": "markdown",
   "metadata": {},
   "source": [
    "# Example of a Survival Curve"
   ]
  },
  {
   "cell_type": "code",
   "execution_count": 13,
   "metadata": {},
   "outputs": [
    {
     "data": {
      "text/html": [
       "<div>\n",
       "<style scoped>\n",
       "    .dataframe tbody tr th:only-of-type {\n",
       "        vertical-align: middle;\n",
       "    }\n",
       "\n",
       "    .dataframe tbody tr th {\n",
       "        vertical-align: top;\n",
       "    }\n",
       "\n",
       "    .dataframe thead th {\n",
       "        text-align: right;\n",
       "    }\n",
       "</style>\n",
       "<table border=\"1\" class=\"dataframe\">\n",
       "  <thead>\n",
       "    <tr style=\"text-align: right;\">\n",
       "      <th></th>\n",
       "      <th>Operation_year</th>\n",
       "      <th>Nb_pos_detected</th>\n",
       "    </tr>\n",
       "  </thead>\n",
       "  <tbody>\n",
       "    <tr>\n",
       "      <th>4</th>\n",
       "      <td>65</td>\n",
       "      <td>4</td>\n",
       "    </tr>\n",
       "    <tr>\n",
       "      <th>125</th>\n",
       "      <td>64</td>\n",
       "      <td>0</td>\n",
       "    </tr>\n",
       "    <tr>\n",
       "      <th>211</th>\n",
       "      <td>67</td>\n",
       "      <td>0</td>\n",
       "    </tr>\n",
       "  </tbody>\n",
       "</table>\n",
       "</div>"
      ],
      "text/plain": [
       "     Operation_year  Nb_pos_detected\n",
       "4                65                4\n",
       "125              64                0\n",
       "211              67                0"
      ]
     },
     "execution_count": 13,
     "metadata": {},
     "output_type": "execute_result"
    }
   ],
   "source": [
    "## I want to see the Survival curve at the patient level.\n",
    "## Random patients\n",
    "patients = [4,125,211]\n",
    "\n",
    "rows_selected = data.iloc[patients, 1:3]\n",
    "rows_selected"
   ]
  },
  {
   "cell_type": "code",
   "execution_count": 19,
   "metadata": {},
   "outputs": [
    {
     "data": {
      "text/plain": [
       "<AxesSubplot:>"
      ]
     },
     "execution_count": 19,
     "metadata": {},
     "output_type": "execute_result"
    },
    {
     "data": {
      "image/png": "[encoded data removed]",
      "text/plain": [
       "<Figure size 1080x504 with 1 Axes>"
      ]
     },
     "metadata": {
      "needs_background": "light"
     },
     "output_type": "display_data"
    }
   ],
   "source": [
    "## Lets predict the survival curve for the selected patients. \n",
    "## Patients can be identified with the help of the number mentioned against each curve.\n",
    "cph.predict_survival_function(rows_selected).plot(figsize=(15,7))"
   ]
  },
  {
   "cell_type": "markdown",
   "metadata": {},
   "source": [
    "<div align='justify'><font size=3>Shows the survival curves at customer level. It shows the survival curves for three randomly selected patients.</font></div>"
   ]
  }
 ],
 "metadata": {
  "kernelspec": {
   "display_name": "Python 3",
   "language": "python",
   "name": "python3"
  },
  "language_info": {
   "codemirror_mode": {
    "name": "ipython",
    "version": 3
   },
   "file_extension": ".py",
   "mimetype": "text/x-python",
   "name": "python",
   "nbconvert_exporter": "python",
   "pygments_lexer": "ipython3",
   "version": "3.10.2"
  }
 },
 "nbformat": 4,
 "nbformat_minor": 4
}
